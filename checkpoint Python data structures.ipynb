{
 "cells": [
  {
   "cell_type": "code",
   "execution_count": 3,
   "id": "d3e3ef4b",
   "metadata": {},
   "outputs": [
    {
     "name": "stdout",
     "output_type": "stream",
     "text": [
      "36\n"
     ]
    }
   ],
   "source": [
    "def multiply_list_items(lst):\n",
    "    result = 1\n",
    "    for item in lst:\n",
    "        result *= item\n",
    "    return result\n",
    "\n",
    "sample_list = [2, 3, 6]\n",
    "print(multiply_list_items(sample_list))"
   ]
  },
  {
   "cell_type": "code",
   "execution_count": 4,
   "id": "38b75cc0",
   "metadata": {},
   "outputs": [
    {
     "name": "stdout",
     "output_type": "stream",
     "text": [
      "[(2, 1), (1, 2), (2, 3), (4, 4), (2, 5)]\n"
     ]
    }
   ],
   "source": [
    "def sort_list_by_last_element(lst):\n",
    "    return sorted(lst, key=lambda x: x[-1])\n",
    "\n",
    "sample_list = [(2, 5), (1, 2), (4, 4), (2, 3), (2, 1)]\n",
    "print(sort_list_by_last_element(sample_list))"
   ]
  },
  {
   "cell_type": "code",
   "execution_count": 7,
   "id": "606069ca",
   "metadata": {},
   "outputs": [
    {
     "name": "stdout",
     "output_type": "stream",
     "text": [
      "{'d': 400, 'c': 300, 'a': 400, 'b': 400}\n"
     ]
    }
   ],
   "source": [
    "def combine_dicts(d1, d2):\n",
    "    result = {}\n",
    "    for key in set(d1) | set(d2):\n",
    "        result[key] = d1.get(key, 0) + d2.get(key, 0)\n",
    "    return result\n",
    "\n",
    "d1 = {'a': 100, 'b': 200, 'c': 300}\n",
    "d2 = {'a': 300, 'b': 200, 'd': 400}\n",
    "print(combine_dicts(d1, d2))"
   ]
  },
  {
   "cell_type": "code",
   "execution_count": 9,
   "id": "22e094a5",
   "metadata": {},
   "outputs": [
    {
     "name": "stdout",
     "output_type": "stream",
     "text": [
      "{1: 1, 2: 4, 3: 9, 4: 16, 5: 25, 6: 36, 7: 49, 8: 64}\n"
     ]
    }
   ],
   "source": [
    "def generate_dict(n):\n",
    "    return {i: i*i for i in range(1, n+1)}\n",
    "\n",
    "input_number = 8\n",
    "print(generate_dict(input_number))"
   ]
  },
  {
   "cell_type": "code",
   "execution_count": 10,
   "id": "858fbebb",
   "metadata": {},
   "outputs": [
    {
     "name": "stdout",
     "output_type": "stream",
     "text": [
      "[('item3', '24.5'), ('item2', '15.10'), ('item1', '12.20')]\n"
     ]
    }
   ],
   "source": [
    "def sort_tuple_by_float(tup):\n",
    "    return sorted(tup, key=lambda x: float(x[1]), reverse=True)\n",
    "\n",
    "sample_list = [('item1', '12.20'), ('item2', '15.10'), ('item3', '24.5')]\n",
    "print(sort_tuple_by_float(sample_list))"
   ]
  },
  {
   "cell_type": "code",
   "execution_count": null,
   "id": "b7d8d659",
   "metadata": {},
   "outputs": [],
   "source": [
    "# creating a set\n",
    "sample_set = {0, 1, 2, 3, 4}\n",
    "\n",
    "# iterating over a set\n",
    "for item in sample_set:\n",
    "    print(item)\n",
    "\n",
    "# adding an element to a set\n",
    "sample_set.add(5)\n",
    "\n",
    "# removing an element from a set\n",
    "sample_set.remove(3)"
   ]
  }
 ],
 "metadata": {
  "kernelspec": {
   "display_name": "Python 3 (ipykernel)",
   "language": "python",
   "name": "python3"
  },
  "language_info": {
   "codemirror_mode": {
    "name": "ipython",
    "version": 3
   },
   "file_extension": ".py",
   "mimetype": "text/x-python",
   "name": "python",
   "nbconvert_exporter": "python",
   "pygments_lexer": "ipython3",
   "version": "3.9.13"
  }
 },
 "nbformat": 4,
 "nbformat_minor": 5
}
